{
 "cells": [
  {
   "cell_type": "code",
   "execution_count": 10,
   "id": "c6670a5f",
   "metadata": {},
   "outputs": [
    {
     "name": "stdout",
     "output_type": "stream",
     "text": [
      "原告需分擔7704元，被告需分擔17976元\n"
     ]
    }
   ],
   "source": [
    "money = 25688\n",
    "a = str(money//10*3)\n",
    "b = str(money//10*7)\n",
    "print(\"原告需分擔\"+a+\"元，被告需分擔\"+b+\"元\")"
   ]
  },
  {
   "cell_type": "code",
   "execution_count": null,
   "id": "0c07e9e0",
   "metadata": {},
   "outputs": [],
   "source": []
  }
 ],
 "metadata": {
  "kernelspec": {
   "display_name": "Python 3 (ipykernel)",
   "language": "python",
   "name": "python3"
  },
  "language_info": {
   "codemirror_mode": {
    "name": "ipython",
    "version": 3
   },
   "file_extension": ".py",
   "mimetype": "text/x-python",
   "name": "python",
   "nbconvert_exporter": "python",
   "pygments_lexer": "ipython3",
   "version": "3.9.7"
  }
 },
 "nbformat": 4,
 "nbformat_minor": 5
}
