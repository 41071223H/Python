{
 "cells": [
  {
   "cell_type": "code",
   "execution_count": 10,
   "id": "c6670a5f",
   "metadata": {},
   "outputs": [
    {
     "name": "stdout",
     "output_type": "stream",
     "text": [
      "原告需分擔7704元，被告需分擔17976元\n"
     ]
    }
   ],
   "source": [
    "money = 25688\n",
    "a = str(money//10*3)\n",
    "b = str(money//10*7)\n",
    "print(\"原告需分擔\"+a+\"元，被告需分擔\"+b+\"元\")"
   ]
  },
  {
   "cell_type": "code",
   "execution_count": 12,
   "id": "bfc35c7e",
   "metadata": {},
   "outputs": [
    {
     "name": "stdout",
     "output_type": "stream",
     "text": [
      "丁先生包含利息與違約金需償還12105元\n"
     ]
    }
   ],
   "source": [
    "payment = 11805\n",
    "month = 2\n",
    "payments = 150*month\n",
    "all = str(payment+payments)\n",
    "print(\"丁先生包含利息與違約金需償還\"+all+\"元\")"
   ]
  },
  {
   "cell_type": "code",
   "execution_count": 19,
   "id": "5286a3e6",
   "metadata": {},
   "outputs": [
    {
     "name": "stdout",
     "output_type": "stream",
     "text": [
      "請輸入案件:被告闖紅燈\n",
      "被告賠100%\n"
     ]
    }
   ],
   "source": [
    "event = input(\"請輸入案件:\") \n",
    "if event == \"被告闖紅燈\":\n",
    "    print(\"被告賠100%\")\n",
    "elif event == \"原告闖紅燈\":\n",
    "    print(\"原告多被告少\")\n",
    "elif event == \"被告原告皆無闖紅燈\":\n",
    "    print(\"原告50%被告50%\")\n",
    "else:\n",
    "    print(\"請輸入有效訊息\")\n",
    "    \n"
   ]
  },
  {
   "cell_type": "code",
   "execution_count": null,
   "id": "5e106d6d",
   "metadata": {},
   "outputs": [],
   "source": []
  }
 ],
 "metadata": {
  "kernelspec": {
   "display_name": "Python 3 (ipykernel)",
   "language": "python",
   "name": "python3"
  },
  "language_info": {
   "codemirror_mode": {
    "name": "ipython",
    "version": 3
   },
   "file_extension": ".py",
   "mimetype": "text/x-python",
   "name": "python",
   "nbconvert_exporter": "python",
   "pygments_lexer": "ipython3",
   "version": "3.9.7"
  }
 },
 "nbformat": 4,
 "nbformat_minor": 5
}
