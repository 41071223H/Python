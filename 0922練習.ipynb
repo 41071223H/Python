{
 "cells": [
  {
   "cell_type": "code",
   "execution_count": 26,
   "id": "f373b04e",
   "metadata": {},
   "outputs": [
    {
     "name": "stdout",
     "output_type": "stream",
     "text": [
      "交付楊清弦美製貝瑞塔手槍 1支、美製史密斯手槍 1支、制式口徑9mm子彈26顆 、土造金屬子彈 1顆、仿美國COLT廠M1911A1型半自動手槍1支、口徑0.45吋制式子彈1顆\n",
      "['美製貝瑞塔手槍 1支', '美製史密斯手槍 1支', '制式口徑9mm子彈26顆 ', '土造金屬子彈 1顆', '仿美國COLT廠M1911A1型半自動手槍1支', '口徑0.45吋制式子彈1顆']\n"
     ]
    }
   ],
   "source": [
    "#練習0201\n",
    "\n",
    "s = \"因葉益成（已歿）積欠伊賭債新臺幣（下同） 60萬元，交付楊清弦美製貝瑞塔手槍 1支、美製史密斯手槍 1支、制式口徑9mm子彈26顆 、土造金屬子彈 1顆、仿美國COLT廠M1911A1型半自動手槍1支、口徑0.45吋制式子彈1顆，而未經許可而持有之。\"\n",
    "list = s.split(\"，\")\n",
    "s = list[1]\n",
    "print(s)\n",
    "list = s.split(\"、\")\n",
    "del list[0]\n",
    "list.insert(0,\"美製貝瑞塔手槍 1支\")\n",
    "print(list)"
   ]
  },
  {
   "cell_type": "code",
   "execution_count": 50,
   "id": "7b751c77",
   "metadata": {},
   "outputs": [
    {
     "name": "stdout",
     "output_type": "stream",
     "text": [
      "('最高法院民事判例', '最高法院刑事判例', '行政法院判例')\n",
      "[('最高法院民事判例', 7), ('最高法院刑事判例', 3), ('行政法院判例', 5)]\n"
     ]
    }
   ],
   "source": [
    "#練習0202\n",
    "\n",
    "list = []\n",
    "tup1 = \"最高法院民事判例\",\"最高法院刑事判例\",\"行政法院判例\",\"大法官解釋\"\n",
    "tup2 = 7,3,5,4\n",
    "tup3 = tup1[:3]\n",
    "print(tup3)\n",
    "zipnew = zip(tup3,tup2)\n",
    "for i in zipnew:\n",
    "    list.append(i)\n",
    "print(list)"
   ]
  },
  {
   "cell_type": "code",
   "execution_count": 2,
   "id": "7f6d2d4c",
   "metadata": {},
   "outputs": [
    {
     "name": "stdout",
     "output_type": "stream",
     "text": [
      "('最高法院民事判例', '最高法院刑事判例', '行政法院判例')\n",
      "[('最高法院民事判例', 7), ('最高法院刑事判例', 3), ('行政法院判例', 5)]\n"
     ]
    }
   ],
   "source": [
    "#練習0202\n",
    "\n",
    "tup1 = \"最高法院民事判例\",\"最高法院刑事判例\",\"行政法院判例\",\"大法官解釋\"\n",
    "tup2 = 7,3,5,4\n",
    "tup3 = tup1[:3]\n",
    "print(tup3)\n",
    "z = zip(tup3,tup2)\n",
    "print(list(z))"
   ]
  },
  {
   "cell_type": "code",
   "execution_count": 59,
   "id": "e7289ccb",
   "metadata": {},
   "outputs": [
    {
     "name": "stdout",
     "output_type": "stream",
     "text": [
      "{'無期徒刑', '有期徒刑', '沒收', '褫奪公權', '罰金'}\n",
      "{'無期徒刑', '褫奪公權'}\n",
      "{'罰金'}\n",
      "True True\n"
     ]
    }
   ],
   "source": [
    "#練習0203\n",
    "\n",
    "a = {\"有期徒刑\",\"沒收\",\"罰金\"}\n",
    "b = {\"無期徒刑\",\"罰金\",\"褫奪公權\"}\n",
    "print(a|b)\n",
    "print(b-a)\n",
    "print(a&b)\n",
    "print(\"罰金\"in a,\"罰金\"in b)\n"
   ]
  },
  {
   "cell_type": "code",
   "execution_count": 73,
   "id": "3ead6280",
   "metadata": {},
   "outputs": [
    {
     "name": "stdout",
     "output_type": "stream",
     "text": [
      "['刑事訴訟法', '中華民國刑法']\n",
      "[['第159條之4', '第159條之5', '第159條之1', '第267條', '第299條第1項', '第302條第1款'], ['第11條', '第38條第1項第1款', '第42條第3項', '第55條', '第56條', '第57條', '第59條']]\n",
      "第267條\n",
      "{'刑事訴訟法': ['第159條之4', '第159條之5', '第159條之1', '第267條', '第299條第1項', '第302條第1款'], '中華民國刑法': ['第11條', '第38條第1項第1款', '第42條第3項', '第55條', '第56條', '第57條', '第59條', '第62條']}\n"
     ]
    }
   ],
   "source": [
    "#練習0204\n",
    "\n",
    "dic = {\"刑事訴訟法\":[\"第159條之4\",\"第159條之5\",\"第159條之1\",\"第267條\",\"第299條第1項\",\"第302條第1款\"],\"中華民國刑法\":[\"第11條\",\"第38條第1項第1款\",\"第42條第3項\",\"第55條\",\"第56條\",\"第57條\",\"第59條\"]}\n",
    "kl = []\n",
    "vl = []\n",
    "for i in dic.keys():\n",
    "    kl.append(i)\n",
    "print(kl)\n",
    "for i in dic.values():\n",
    "    vl.append(i)\n",
    "print(vl)\n",
    "print(dic[\"刑事訴訟法\"][3])\n",
    "dic[\"中華民國刑法\"]=[\"第11條\",\"第38條第1項第1款\",\"第42條第3項\",\"第55條\",\"第56條\",\"第57條\",\"第59條\",\"第62條\"]\n",
    "print(dic)"
   ]
  },
  {
   "cell_type": "code",
   "execution_count": null,
   "id": "19462165",
   "metadata": {},
   "outputs": [],
   "source": []
  }
 ],
 "metadata": {
  "kernelspec": {
   "display_name": "Python 3 (ipykernel)",
   "language": "python",
   "name": "python3"
  },
  "language_info": {
   "codemirror_mode": {
    "name": "ipython",
    "version": 3
   },
   "file_extension": ".py",
   "mimetype": "text/x-python",
   "name": "python",
   "nbconvert_exporter": "python",
   "pygments_lexer": "ipython3",
   "version": "3.9.7"
  }
 },
 "nbformat": 4,
 "nbformat_minor": 5
}
