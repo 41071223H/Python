{
 "cells": [
  {
   "cell_type": "code",
   "execution_count": null,
   "id": "a098dc9f",
   "metadata": {},
   "outputs": [],
   "source": [
    "dic ={[\"名字\"]:[\"阿程\",\"阿力\",\"阿瑤\"],[\"年齡\"]:[\"34\",\"29\",\"58\"],[\"共觸犯(條)\"]:[\"\"]}"
   ]
  }
 ],
 "metadata": {
  "kernelspec": {
   "display_name": "Python 3 (ipykernel)",
   "language": "python",
   "name": "python3"
  },
  "language_info": {
   "codemirror_mode": {
    "name": "ipython",
    "version": 3
   },
   "file_extension": ".py",
   "mimetype": "text/x-python",
   "name": "python",
   "nbconvert_exporter": "python",
   "pygments_lexer": "ipython3",
   "version": "3.9.7"
  }
 },
 "nbformat": 4,
 "nbformat_minor": 5
}
