{
 "cells": [
  {
   "cell_type": "code",
   "execution_count": 8,
   "id": "c3a04e49",
   "metadata": {},
   "outputs": [
    {
     "data": {
      "text/html": [
       "<div>\n",
       "<style scoped>\n",
       "    .dataframe tbody tr th:only-of-type {\n",
       "        vertical-align: middle;\n",
       "    }\n",
       "\n",
       "    .dataframe tbody tr th {\n",
       "        vertical-align: top;\n",
       "    }\n",
       "\n",
       "    .dataframe thead th {\n",
       "        text-align: right;\n",
       "    }\n",
       "</style>\n",
       "<table border=\"1\" class=\"dataframe\">\n",
       "  <thead>\n",
       "    <tr style=\"text-align: right;\">\n",
       "      <th></th>\n",
       "      <th>性別</th>\n",
       "      <th>年級</th>\n",
       "    </tr>\n",
       "  </thead>\n",
       "  <tbody>\n",
       "    <tr>\n",
       "      <th>200</th>\n",
       "      <td>M</td>\n",
       "      <td>一</td>\n",
       "    </tr>\n",
       "    <tr>\n",
       "      <th>201</th>\n",
       "      <td>M</td>\n",
       "      <td>一</td>\n",
       "    </tr>\n",
       "    <tr>\n",
       "      <th>202</th>\n",
       "      <td>M</td>\n",
       "      <td>一</td>\n",
       "    </tr>\n",
       "    <tr>\n",
       "      <th>203</th>\n",
       "      <td>F</td>\n",
       "      <td>一</td>\n",
       "    </tr>\n",
       "    <tr>\n",
       "      <th>204</th>\n",
       "      <td>M</td>\n",
       "      <td>一</td>\n",
       "    </tr>\n",
       "    <tr>\n",
       "      <th>...</th>\n",
       "      <td>...</td>\n",
       "      <td>...</td>\n",
       "    </tr>\n",
       "    <tr>\n",
       "      <th>360</th>\n",
       "      <td>F</td>\n",
       "      <td>四</td>\n",
       "    </tr>\n",
       "    <tr>\n",
       "      <th>361</th>\n",
       "      <td>F</td>\n",
       "      <td>四</td>\n",
       "    </tr>\n",
       "    <tr>\n",
       "      <th>362</th>\n",
       "      <td>M</td>\n",
       "      <td>四</td>\n",
       "    </tr>\n",
       "    <tr>\n",
       "      <th>363</th>\n",
       "      <td>M</td>\n",
       "      <td>一</td>\n",
       "    </tr>\n",
       "    <tr>\n",
       "      <th>364</th>\n",
       "      <td>M</td>\n",
       "      <td>一</td>\n",
       "    </tr>\n",
       "  </tbody>\n",
       "</table>\n",
       "<p>165 rows × 2 columns</p>\n",
       "</div>"
      ],
      "text/plain": [
       "    性別 年級\n",
       "200  M  一\n",
       "201  M  一\n",
       "202  M  一\n",
       "203  F  一\n",
       "204  M  一\n",
       "..  .. ..\n",
       "360  F  四\n",
       "361  F  四\n",
       "362  M  四\n",
       "363  M  一\n",
       "364  M  一\n",
       "\n",
       "[165 rows x 2 columns]"
      ]
     },
     "execution_count": 8,
     "metadata": {},
     "output_type": "execute_result"
    }
   ],
   "source": [
    "import pandas as pd\n",
    "data = pd.read_csv(\"data.csv\")\n",
    "data.tail(165)"
   ]
  },
  {
   "cell_type": "code",
   "execution_count": 14,
   "id": "41317f6f",
   "metadata": {},
   "outputs": [
    {
     "name": "stdout",
     "output_type": "stream",
     "text": [
      "全部樣本數: 165\n",
      "男生: 74 人\n",
      "女生: 91 人\n"
     ]
    }
   ],
   "source": [
    "data1 = list(data[\"性別\"])\n",
    "F = 0\n",
    "M = 0\n",
    "print(\"全部樣本數:\", len(data1))\n",
    "\n",
    "for i in data1:\n",
    "    if i==\"M\":\n",
    "        M=M+1\n",
    "print(\"男生:\",M,\"人\")\n",
    "for i in data1:\n",
    "    if i==\"F\":\n",
    "        F=F+1\n",
    "print(\"女生:\",F,\"人\")"
   ]
  },
  {
   "cell_type": "code",
   "execution_count": 17,
   "id": "5eb3bc57",
   "metadata": {},
   "outputs": [
    {
     "name": "stdout",
     "output_type": "stream",
     "text": [
      "一年級: 111 人\n",
      "二年級: 16 人\n",
      "三年級: 13 人\n",
      "四年級: 25 人\n"
     ]
    }
   ],
   "source": [
    "data2 = list(data[\"年級\"])\n",
    "grade1 = 0\n",
    "grade2 = 0\n",
    "grade3 = 0\n",
    "grade4 = 0\n",
    "for i in data2:\n",
    "    if i==\"一\":\n",
    "        grade1=grade1+1\n",
    "print(\"一年級:\",grade1,\"人\")\n",
    "for i in data2:\n",
    "    if i==\"二\":\n",
    "        grade2=grade2+1\n",
    "print(\"二年級:\",grade2,\"人\")\n",
    "for i in data2:\n",
    "    if i==\"三\":\n",
    "        grade3=grade3+1\n",
    "print(\"三年級:\",grade3,\"人\")\n",
    "for i in data2:\n",
    "    if i==\"四\":\n",
    "        grade4=grade4+1\n",
    "print(\"四年級:\",grade4,\"人\")"
   ]
  },
  {
   "cell_type": "code",
   "execution_count": null,
   "id": "91356eee",
   "metadata": {},
   "outputs": [],
   "source": []
  }
 ],
 "metadata": {
  "kernelspec": {
   "display_name": "Python 3 (ipykernel)",
   "language": "python",
   "name": "python3"
  },
  "language_info": {
   "codemirror_mode": {
    "name": "ipython",
    "version": 3
   },
   "file_extension": ".py",
   "mimetype": "text/x-python",
   "name": "python",
   "nbconvert_exporter": "python",
   "pygments_lexer": "ipython3",
   "version": "3.9.7"
  }
 },
 "nbformat": 4,
 "nbformat_minor": 5
}
