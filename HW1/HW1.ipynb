{
 "cells": [
  {
   "cell_type": "code",
   "execution_count": 2,
   "id": "c3a04e49",
   "metadata": {
    "scrolled": true
   },
   "outputs": [
    {
     "data": {
      "text/html": [
       "<div>\n",
       "<style scoped>\n",
       "    .dataframe tbody tr th:only-of-type {\n",
       "        vertical-align: middle;\n",
       "    }\n",
       "\n",
       "    .dataframe tbody tr th {\n",
       "        vertical-align: top;\n",
       "    }\n",
       "\n",
       "    .dataframe thead th {\n",
       "        text-align: right;\n",
       "    }\n",
       "</style>\n",
       "<table border=\"1\" class=\"dataframe\">\n",
       "  <thead>\n",
       "    <tr style=\"text-align: right;\">\n",
       "      <th></th>\n",
       "      <th>性別</th>\n",
       "      <th>年級</th>\n",
       "    </tr>\n",
       "  </thead>\n",
       "  <tbody>\n",
       "    <tr>\n",
       "      <th>0</th>\n",
       "      <td>M</td>\n",
       "      <td>一</td>\n",
       "    </tr>\n",
       "    <tr>\n",
       "      <th>1</th>\n",
       "      <td>F</td>\n",
       "      <td>一</td>\n",
       "    </tr>\n",
       "    <tr>\n",
       "      <th>2</th>\n",
       "      <td>F</td>\n",
       "      <td>一</td>\n",
       "    </tr>\n",
       "    <tr>\n",
       "      <th>3</th>\n",
       "      <td>F</td>\n",
       "      <td>一</td>\n",
       "    </tr>\n",
       "    <tr>\n",
       "      <th>4</th>\n",
       "      <td>F</td>\n",
       "      <td>一</td>\n",
       "    </tr>\n",
       "    <tr>\n",
       "      <th>...</th>\n",
       "      <td>...</td>\n",
       "      <td>...</td>\n",
       "    </tr>\n",
       "    <tr>\n",
       "      <th>245</th>\n",
       "      <td>F</td>\n",
       "      <td>四</td>\n",
       "    </tr>\n",
       "    <tr>\n",
       "      <th>246</th>\n",
       "      <td>M</td>\n",
       "      <td>四</td>\n",
       "    </tr>\n",
       "    <tr>\n",
       "      <th>247</th>\n",
       "      <td>M</td>\n",
       "      <td>一</td>\n",
       "    </tr>\n",
       "    <tr>\n",
       "      <th>248</th>\n",
       "      <td>M</td>\n",
       "      <td>一</td>\n",
       "    </tr>\n",
       "    <tr>\n",
       "      <th>249</th>\n",
       "      <td>M</td>\n",
       "      <td>三</td>\n",
       "    </tr>\n",
       "  </tbody>\n",
       "</table>\n",
       "<p>250 rows × 2 columns</p>\n",
       "</div>"
      ],
      "text/plain": [
       "    性別 年級\n",
       "0    M  一\n",
       "1    F  一\n",
       "2    F  一\n",
       "3    F  一\n",
       "4    F  一\n",
       "..  .. ..\n",
       "245  F  四\n",
       "246  M  四\n",
       "247  M  一\n",
       "248  M  一\n",
       "249  M  三\n",
       "\n",
       "[250 rows x 2 columns]"
      ]
     },
     "execution_count": 2,
     "metadata": {},
     "output_type": "execute_result"
    }
   ],
   "source": [
    "#某堂課的選課學生，依年級及性別分類去取交集、聯集、差集、對稱差集去比較各年級性別人數\n",
    "#傳入csv檔案\n",
    "import pandas as pd\n",
    "data = pd.read_csv(\"data.csv\")\n",
    "data"
   ]
  },
  {
   "cell_type": "code",
   "execution_count": 30,
   "id": "41317f6f",
   "metadata": {},
   "outputs": [
    {
     "name": "stdout",
     "output_type": "stream",
     "text": [
      "全部樣本數: 250\n",
      "男生: 100 人\n",
      "女生: 150 人\n",
      "一年級: 156 人\n",
      "二年級: 35 人\n",
      "三年級: 21 人\n",
      "四年級: 38 人\n"
     ]
    }
   ],
   "source": [
    "#計算樣本數\n",
    "print(\"全部樣本數:\", len(data))\n",
    "\n",
    "#計算男女樣本數\n",
    "data1 = list(data[\"性別\"])\n",
    "F = 0\n",
    "M = 0\n",
    "for i in data1:\n",
    "    if i==\"M\":\n",
    "        M=M+1\n",
    "print(\"男生:\",M,\"人\")\n",
    "for i in data1:\n",
    "    if i==\"F\":\n",
    "        F=F+1\n",
    "print(\"女生:\",F,\"人\")\n",
    "\n",
    "#計算各年級樣本數\n",
    "data2 = list(data[\"年級\"])\n",
    "grade1 = 0\n",
    "grade2 = 0\n",
    "grade3 = 0\n",
    "grade4 = 0\n",
    "for i in data2:\n",
    "    if i==\"一\":\n",
    "        grade1=grade1+1\n",
    "print(\"一年級:\",grade1,\"人\")\n",
    "for i in data2:\n",
    "    if i==\"二\":\n",
    "        grade2=grade2+1\n",
    "print(\"二年級:\",grade2,\"人\")\n",
    "for i in data2:\n",
    "    if i==\"三\":\n",
    "        grade3=grade3+1\n",
    "print(\"三年級:\",grade3,\"人\")\n",
    "for i in data2:\n",
    "    if i==\"四\":\n",
    "        grade4=grade4+1\n",
    "print(\"四年級:\",grade4,\"人\")"
   ]
  },
  {
   "cell_type": "code",
   "execution_count": 46,
   "id": "577775e8",
   "metadata": {},
   "outputs": [
    {
     "name": "stdout",
     "output_type": "stream",
     "text": [
      "[男生人數]  一年級: 71  二年級: 11  三年級: 5  四年級: 13\n",
      "[女生人數]  一年級: 85  二年級: 24  三年級: 16  四年級: 25\n"
     ]
    }
   ],
   "source": [
    "#交集intersection\n",
    "#各年級男生人數\n",
    "M1 = data[(data[\"性別\"]==\"M\")&(data[\"年級\"]==\"一\")]\n",
    "M2 = data[(data[\"性別\"]==\"M\")&(data[\"年級\"]==\"二\")]\n",
    "M3 = data[(data[\"性別\"]==\"M\")&(data[\"年級\"]==\"三\")]\n",
    "M4 = data[(data[\"性別\"]==\"M\")&(data[\"年級\"]==\"四\")]\n",
    "print(\"[男生人數]  一年級:\",len(M1),\" 二年級:\",len(M2),\" 三年級:\",len(M3),\" 四年級:\",len(M4))\n",
    "#各年級女生人數\n",
    "F1 = data[(data[\"性別\"]==\"F\")&(data[\"年級\"]==\"一\")]\n",
    "F2 = data[(data[\"性別\"]==\"F\")&(data[\"年級\"]==\"二\")]\n",
    "F3 = data[(data[\"性別\"]==\"F\")&(data[\"年級\"]==\"三\")]\n",
    "F4 = data[(data[\"性別\"]==\"F\")&(data[\"年級\"]==\"四\")]\n",
    "print(\"[女生人數]  一年級:\",len(F1),\" 二年級:\",len(F2),\" 三年級:\",len(F3),\" 四年級:\",len(F4))"
   ]
  },
  {
   "cell_type": "code",
   "execution_count": 81,
   "id": "e700b2ed",
   "metadata": {},
   "outputs": [
    {
     "name": "stdout",
     "output_type": "stream",
     "text": [
      "    性別 年級\n",
      "0    M  一\n",
      "1    F  一\n",
      "2    F  一\n",
      "3    F  一\n",
      "4    F  一\n",
      "..  .. ..\n",
      "242  F  三\n",
      "244  F  四\n",
      "245  F  四\n",
      "247  M  一\n",
      "248  M  一\n",
      "\n",
      "[221 rows x 2 columns]\n"
     ]
    }
   ],
   "source": [
    "#聯集union\n",
    "#全年級女生或一年級學生\n",
    "U = data[(data[\"性別\"]==\"F\")|(data[\"年級\"]==\"一\")]\n",
    "print(U)"
   ]
  },
  {
   "cell_type": "code",
   "execution_count": 91,
   "id": "f6e85d9f",
   "metadata": {},
   "outputs": [
    {
     "name": "stdout",
     "output_type": "stream",
     "text": [
      "    性別 年級\n",
      "0    M  一\n",
      "5    M  一\n",
      "6    M  四\n",
      "7    M  四\n",
      "8    M  四\n",
      "..  .. ..\n",
      "233  M  一\n",
      "234  M  一\n",
      "246  M  四\n",
      "247  M  一\n",
      "248  M  一\n",
      "\n",
      "[95 rows x 2 columns]\n"
     ]
    }
   ],
   "source": [
    "#差集difference\n",
    "#全年級的男生除了三年級的男生\n",
    "D = data[(data[\"性別\"]==\"M\")&(data[\"年級\"]!=\"三\")]\n",
    "print(D)"
   ]
  },
  {
   "cell_type": "code",
   "execution_count": 1,
   "id": "a9c0ab50",
   "metadata": {},
   "outputs": [
    {
     "ename": "NameError",
     "evalue": "name 'data' is not defined",
     "output_type": "error",
     "traceback": [
      "\u001b[1;31m---------------------------------------------------------------------------\u001b[0m",
      "\u001b[1;31mNameError\u001b[0m                                 Traceback (most recent call last)",
      "\u001b[1;32m~\\AppData\\Local\\Temp\\ipykernel_23280\\3540070900.py\u001b[0m in \u001b[0;36m<module>\u001b[1;34m\u001b[0m\n\u001b[0;32m      1\u001b[0m \u001b[1;31m#對稱差集symmetric difference\u001b[0m\u001b[1;33m\u001b[0m\u001b[1;33m\u001b[0m\u001b[0m\n\u001b[0;32m      2\u001b[0m \u001b[1;31m#女生是一年級、男生但不是一年級\u001b[0m\u001b[1;33m\u001b[0m\u001b[1;33m\u001b[0m\u001b[0m\n\u001b[1;32m----> 3\u001b[1;33m \u001b[0mS\u001b[0m \u001b[1;33m=\u001b[0m \u001b[0mdata\u001b[0m\u001b[1;33m[\u001b[0m\u001b[1;33m(\u001b[0m\u001b[0mdata\u001b[0m\u001b[1;33m[\u001b[0m\u001b[1;34m\"性別\"\u001b[0m\u001b[1;33m]\u001b[0m\u001b[1;33m==\u001b[0m\u001b[1;34m\"M\"\u001b[0m\u001b[1;33m)\u001b[0m\u001b[1;33m^\u001b[0m\u001b[1;33m(\u001b[0m\u001b[0mdata\u001b[0m\u001b[1;33m[\u001b[0m\u001b[1;34m\"年級\"\u001b[0m\u001b[1;33m]\u001b[0m\u001b[1;33m==\u001b[0m\u001b[1;34m\"一\"\u001b[0m\u001b[1;33m)\u001b[0m\u001b[1;33m]\u001b[0m\u001b[1;33m\u001b[0m\u001b[1;33m\u001b[0m\u001b[0m\n\u001b[0m\u001b[0;32m      4\u001b[0m \u001b[0mprint\u001b[0m\u001b[1;33m(\u001b[0m\u001b[0mS\u001b[0m\u001b[1;33m)\u001b[0m\u001b[1;33m\u001b[0m\u001b[1;33m\u001b[0m\u001b[0m\n",
      "\u001b[1;31mNameError\u001b[0m: name 'data' is not defined"
     ]
    }
   ],
   "source": [
    "#對稱差集symmetric difference\n",
    "#女生是一年級、男生但不是一年級\n",
    "S = data[(data[\"性別\"]==\"M\")^(data[\"年級\"]==\"一\")]\n",
    "print(S)"
   ]
  },
  {
   "cell_type": "code",
   "execution_count": null,
   "id": "a18eae5d",
   "metadata": {},
   "outputs": [],
   "source": []
  }
 ],
 "metadata": {
  "kernelspec": {
   "display_name": "Python 3 (ipykernel)",
   "language": "python",
   "name": "python3"
  },
  "language_info": {
   "codemirror_mode": {
    "name": "ipython",
    "version": 3
   },
   "file_extension": ".py",
   "mimetype": "text/x-python",
   "name": "python",
   "nbconvert_exporter": "python",
   "pygments_lexer": "ipython3",
   "version": "3.9.13"
  }
 },
 "nbformat": 4,
 "nbformat_minor": 5
}
