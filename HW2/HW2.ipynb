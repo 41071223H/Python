{
 "cells": [
  {
   "cell_type": "code",
   "execution_count": 8,
   "id": "c53ae4fe",
   "metadata": {},
   "outputs": [],
   "source": [
    "import json"
   ]
  },
  {
   "cell_type": "code",
   "execution_count": 9,
   "id": "047c47cb",
   "metadata": {},
   "outputs": [
    {
     "data": {
      "text/plain": [
       "dict"
      ]
     },
     "execution_count": 9,
     "metadata": {},
     "output_type": "execute_result"
    }
   ],
   "source": [
    "#傳入json檔案，存入dict中\n",
    "\n",
    "test = open('weather.json',encoding=\"utf8\")\n",
    "data = json.load(test)\n",
    "type(data)"
   ]
  },
  {
   "cell_type": "code",
   "execution_count": 11,
   "id": "0faee409",
   "metadata": {},
   "outputs": [
    {
     "data": {
      "text/plain": [
       "dict_items([('cwbopendata', {'@xmlns': 'urn:cwb:gov:tw:cwbcommon:0.1', 'identifier': 'dc71c5d0-4b90-11ed-8cb9-0242ac110002', 'sender': 'weather@cwb.gov.tw', 'sent': '2022-10-14T15:21:46+08:00', 'status': 'Actual', 'msgType': 'Issue', 'dataid': 'A0013-003', 'scope': 'Public', 'dataset': {'weatherElement': [{'elementName': '平均氣溫機率預報', 'location': [{'locationName': '北部', 'time': [{'startTime': '2022/10/15', 'endTime': '2022/10/21', 'elementValue': {'value': '40:50:10', 'measures': '%'}}, {'startTime': '2022/10/22', 'endTime': '2022/10/28', 'elementValue': {'value': '20:50:30', 'measures': '%'}}, {'startTime': '2022/10/15', 'endTime': '2022/11/11', 'elementValue': {'value': '20:60:20', 'measures': '%'}}]}, {'locationName': '中部', 'time': [{'startTime': '2022/10/15', 'endTime': '2022/10/21', 'elementValue': {'value': '30:50:20', 'measures': '%'}}, {'startTime': '2022/10/22', 'endTime': '2022/10/28', 'elementValue': {'value': '20:50:30', 'measures': '%'}}, {'startTime': '2022/10/15', 'endTime': '2022/11/11', 'elementValue': {'value': '20:60:20', 'measures': '%'}}]}, {'locationName': '南部', 'time': [{'startTime': '2022/10/15', 'endTime': '2022/10/21', 'elementValue': {'value': '30:50:20', 'measures': '%'}}, {'startTime': '2022/10/22', 'endTime': '2022/10/28', 'elementValue': {'value': '20:50:30', 'measures': '%'}}, {'startTime': '2022/10/15', 'endTime': '2022/11/11', 'elementValue': {'value': '20:60:20', 'measures': '%'}}]}, {'locationName': '東部', 'time': [{'startTime': '2022/10/15', 'endTime': '2022/10/21', 'elementValue': {'value': '40:50:10', 'measures': '%'}}, {'startTime': '2022/10/22', 'endTime': '2022/10/28', 'elementValue': {'value': '20:50:30', 'measures': '%'}}, {'startTime': '2022/10/15', 'endTime': '2022/11/11', 'elementValue': {'value': '20:60:20', 'measures': '%'}}]}]}, {'elementName': '平均氣溫氣候正常值範圍', 'location': [{'locationName': '北部', 'time': [{'startTime': '2022/10/15', 'endTime': '2022/10/21', 'elementValue': {'value': '23.4~24.5', 'measures': '攝氏'}}, {'startTime': '2022/10/22', 'endTime': '2022/10/28', 'elementValue': {'value': '23.0~24.2', 'measures': '攝氏'}}, {'startTime': '2022/10/15', 'endTime': '2022/11/11', 'elementValue': {'value': '23.2~23.7', 'measures': '攝氏'}}]}, {'locationName': '中部', 'time': [{'startTime': '2022/10/15', 'endTime': '2022/10/21', 'elementValue': {'value': '24.6~25.8', 'measures': '攝氏'}}, {'startTime': '2022/10/22', 'endTime': '2022/10/28', 'elementValue': {'value': '24.2~25.0', 'measures': '攝氏'}}, {'startTime': '2022/10/15', 'endTime': '2022/11/11', 'elementValue': {'value': '24.1~24.7', 'measures': '攝氏'}}]}, {'locationName': '南部', 'time': [{'startTime': '2022/10/15', 'endTime': '2022/10/21', 'elementValue': {'value': '25.4~26.6', 'measures': '攝氏'}}, {'startTime': '2022/10/22', 'endTime': '2022/10/28', 'elementValue': {'value': '25.0~25.8', 'measures': '攝氏'}}, {'startTime': '2022/10/15', 'endTime': '2022/11/11', 'elementValue': {'value': '24.9~25.4', 'measures': '攝氏'}}]}, {'locationName': '東部', 'time': [{'startTime': '2022/10/15', 'endTime': '2022/10/21', 'elementValue': {'value': '24.2~25.0', 'measures': '攝氏'}}, {'startTime': '2022/10/22', 'endTime': '2022/10/28', 'elementValue': {'value': '23.8~24.6', 'measures': '攝氏'}}, {'startTime': '2022/10/15', 'endTime': '2022/11/11', 'elementValue': {'value': '23.6~24.3', 'measures': '攝氏'}}]}]}, {'elementName': '雨量機率預報', 'location': [{'locationName': '北部', 'time': [{'startTime': '2022/10/15', 'endTime': '2022/10/21', 'elementValue': {'value': '0:40:60', 'measures': '%'}}, {'startTime': '2022/10/22', 'endTime': '2022/10/28', 'elementValue': {'value': '10:60:30', 'measures': '%'}}, {'startTime': '2022/10/15', 'endTime': '2022/11/11', 'elementValue': {'value': '10:50:40', 'measures': '%'}}]}, {'locationName': '中部', 'time': [{'startTime': '2022/10/15', 'endTime': '2022/10/21', 'elementValue': {'value': '0:50:50', 'measures': '%'}}, {'startTime': '2022/10/22', 'endTime': '2022/10/28', 'elementValue': {'value': '0:60:40', 'measures': '%'}}, {'startTime': '2022/10/15', 'endTime': '2022/11/11', 'elementValue': {'value': '10:50:40', 'measures': '%'}}]}, {'locationName': '南部', 'time': [{'startTime': '2022/10/15', 'endTime': '2022/10/21', 'elementValue': {'value': '0:50:50', 'measures': '%'}}, {'startTime': '2022/10/22', 'endTime': '2022/10/28', 'elementValue': {'value': '0:60:40', 'measures': '%'}}, {'startTime': '2022/10/15', 'endTime': '2022/11/11', 'elementValue': {'value': '10:50:40', 'measures': '%'}}]}, {'locationName': '東部', 'time': [{'startTime': '2022/10/15', 'endTime': '2022/10/21', 'elementValue': {'value': '0:30:70', 'measures': '%'}}, {'startTime': '2022/10/22', 'endTime': '2022/10/28', 'elementValue': {'value': '10:50:40', 'measures': '%'}}, {'startTime': '2022/10/15', 'endTime': '2022/11/11', 'elementValue': {'value': '10:50:40', 'measures': '%'}}]}]}, {'elementName': '雨量氣候正常值範圍', 'location': [{'locationName': '北部', 'time': [{'startTime': '2022/10/15', 'endTime': '2022/10/21', 'elementValue': {'value': '1.8~21.6', 'measures': 'mm'}}, {'startTime': '2022/10/22', 'endTime': '2022/10/28', 'elementValue': {'value': '2.0~12.5', 'measures': 'mm'}}, {'startTime': '2022/10/15', 'endTime': '2022/11/11', 'elementValue': {'value': '30.5~78.6', 'measures': 'mm'}}]}, {'locationName': '中部', 'time': [{'startTime': '2022/10/15', 'endTime': '2022/10/21', 'elementValue': {'value': '0.0~0.2', 'measures': 'mm'}}, {'startTime': '2022/10/22', 'endTime': '2022/10/28', 'elementValue': {'value': '0.0~0.0', 'measures': 'mm'}}, {'startTime': '2022/10/15', 'endTime': '2022/11/11', 'elementValue': {'value': '0.8~8.0', 'measures': 'mm'}}]}, {'locationName': '南部', 'time': [{'startTime': '2022/10/15', 'endTime': '2022/10/21', 'elementValue': {'value': '0.0~0.0', 'measures': 'mm'}}, {'startTime': '2022/10/22', 'endTime': '2022/10/28', 'elementValue': {'value': '0.0~0.0', 'measures': 'mm'}}, {'startTime': '2022/10/15', 'endTime': '2022/11/11', 'elementValue': {'value': '0.2~6.8', 'measures': 'mm'}}]}, {'locationName': '東部', 'time': [{'startTime': '2022/10/15', 'endTime': '2022/10/21', 'elementValue': {'value': '4.0~36.5', 'measures': 'mm'}}, {'startTime': '2022/10/22', 'endTime': '2022/10/28', 'elementValue': {'value': '2.3~16.8', 'measures': 'mm'}}, {'startTime': '2022/10/15', 'endTime': '2022/11/11', 'elementValue': {'value': '89.3~229.8', 'measures': 'mm'}}]}]}]}})])"
      ]
     },
     "execution_count": 11,
     "metadata": {},
     "output_type": "execute_result"
    }
   ],
   "source": [
    "#查看資料內容\n",
    "\n",
    "data.items()"
   ]
  },
  {
   "cell_type": "code",
   "execution_count": 100,
   "id": "88b62c34",
   "metadata": {},
   "outputs": [
    {
     "name": "stdout",
     "output_type": "stream",
     "text": [
      "{'elementName': '平均氣溫機率預報', 'location': [{'locationName': '北部', 'time': [{'startTime': '2022/10/15', 'endTime': '2022/10/21', 'elementValue': {'value': '40:50:10', 'measures': '%'}}, {'startTime': '2022/10/22', 'endTime': '2022/10/28', 'elementValue': {'value': '20:50:30', 'measures': '%'}}, {'startTime': '2022/10/15', 'endTime': '2022/11/11', 'elementValue': {'value': '20:60:20', 'measures': '%'}}]}, {'locationName': '中部', 'time': [{'startTime': '2022/10/15', 'endTime': '2022/10/21', 'elementValue': {'value': '30:50:20', 'measures': '%'}}, {'startTime': '2022/10/22', 'endTime': '2022/10/28', 'elementValue': {'value': '20:50:30', 'measures': '%'}}, {'startTime': '2022/10/15', 'endTime': '2022/11/11', 'elementValue': {'value': '20:60:20', 'measures': '%'}}]}, {'locationName': '南部', 'time': [{'startTime': '2022/10/15', 'endTime': '2022/10/21', 'elementValue': {'value': '30:50:20', 'measures': '%'}}, {'startTime': '2022/10/22', 'endTime': '2022/10/28', 'elementValue': {'value': '20:50:30', 'measures': '%'}}, {'startTime': '2022/10/15', 'endTime': '2022/11/11', 'elementValue': {'value': '20:60:20', 'measures': '%'}}]}, {'locationName': '東部', 'time': [{'startTime': '2022/10/15', 'endTime': '2022/10/21', 'elementValue': {'value': '40:50:10', 'measures': '%'}}, {'startTime': '2022/10/22', 'endTime': '2022/10/28', 'elementValue': {'value': '20:50:30', 'measures': '%'}}, {'startTime': '2022/10/15', 'endTime': '2022/11/11', 'elementValue': {'value': '20:60:20', 'measures': '%'}}]}]}\n",
      "{'elementName': '平均氣溫氣候正常值範圍', 'location': [{'locationName': '北部', 'time': [{'startTime': '2022/10/15', 'endTime': '2022/10/21', 'elementValue': {'value': '23.4~24.5', 'measures': '攝氏'}}, {'startTime': '2022/10/22', 'endTime': '2022/10/28', 'elementValue': {'value': '23.0~24.2', 'measures': '攝氏'}}, {'startTime': '2022/10/15', 'endTime': '2022/11/11', 'elementValue': {'value': '23.2~23.7', 'measures': '攝氏'}}]}, {'locationName': '中部', 'time': [{'startTime': '2022/10/15', 'endTime': '2022/10/21', 'elementValue': {'value': '24.6~25.8', 'measures': '攝氏'}}, {'startTime': '2022/10/22', 'endTime': '2022/10/28', 'elementValue': {'value': '24.2~25.0', 'measures': '攝氏'}}, {'startTime': '2022/10/15', 'endTime': '2022/11/11', 'elementValue': {'value': '24.1~24.7', 'measures': '攝氏'}}]}, {'locationName': '南部', 'time': [{'startTime': '2022/10/15', 'endTime': '2022/10/21', 'elementValue': {'value': '25.4~26.6', 'measures': '攝氏'}}, {'startTime': '2022/10/22', 'endTime': '2022/10/28', 'elementValue': {'value': '25.0~25.8', 'measures': '攝氏'}}, {'startTime': '2022/10/15', 'endTime': '2022/11/11', 'elementValue': {'value': '24.9~25.4', 'measures': '攝氏'}}]}, {'locationName': '東部', 'time': [{'startTime': '2022/10/15', 'endTime': '2022/10/21', 'elementValue': {'value': '24.2~25.0', 'measures': '攝氏'}}, {'startTime': '2022/10/22', 'endTime': '2022/10/28', 'elementValue': {'value': '23.8~24.6', 'measures': '攝氏'}}, {'startTime': '2022/10/15', 'endTime': '2022/11/11', 'elementValue': {'value': '23.6~24.3', 'measures': '攝氏'}}]}]}\n",
      "{'elementName': '雨量機率預報', 'location': [{'locationName': '北部', 'time': [{'startTime': '2022/10/15', 'endTime': '2022/10/21', 'elementValue': {'value': '0:40:60', 'measures': '%'}}, {'startTime': '2022/10/22', 'endTime': '2022/10/28', 'elementValue': {'value': '10:60:30', 'measures': '%'}}, {'startTime': '2022/10/15', 'endTime': '2022/11/11', 'elementValue': {'value': '10:50:40', 'measures': '%'}}]}, {'locationName': '中部', 'time': [{'startTime': '2022/10/15', 'endTime': '2022/10/21', 'elementValue': {'value': '0:50:50', 'measures': '%'}}, {'startTime': '2022/10/22', 'endTime': '2022/10/28', 'elementValue': {'value': '0:60:40', 'measures': '%'}}, {'startTime': '2022/10/15', 'endTime': '2022/11/11', 'elementValue': {'value': '10:50:40', 'measures': '%'}}]}, {'locationName': '南部', 'time': [{'startTime': '2022/10/15', 'endTime': '2022/10/21', 'elementValue': {'value': '0:50:50', 'measures': '%'}}, {'startTime': '2022/10/22', 'endTime': '2022/10/28', 'elementValue': {'value': '0:60:40', 'measures': '%'}}, {'startTime': '2022/10/15', 'endTime': '2022/11/11', 'elementValue': {'value': '10:50:40', 'measures': '%'}}]}, {'locationName': '東部', 'time': [{'startTime': '2022/10/15', 'endTime': '2022/10/21', 'elementValue': {'value': '0:30:70', 'measures': '%'}}, {'startTime': '2022/10/22', 'endTime': '2022/10/28', 'elementValue': {'value': '10:50:40', 'measures': '%'}}, {'startTime': '2022/10/15', 'endTime': '2022/11/11', 'elementValue': {'value': '10:50:40', 'measures': '%'}}]}]}\n",
      "{'elementName': '雨量氣候正常值範圍', 'location': [{'locationName': '北部', 'time': [{'startTime': '2022/10/15', 'endTime': '2022/10/21', 'elementValue': {'value': '1.8~21.6', 'measures': 'mm'}}, {'startTime': '2022/10/22', 'endTime': '2022/10/28', 'elementValue': {'value': '2.0~12.5', 'measures': 'mm'}}, {'startTime': '2022/10/15', 'endTime': '2022/11/11', 'elementValue': {'value': '30.5~78.6', 'measures': 'mm'}}]}, {'locationName': '中部', 'time': [{'startTime': '2022/10/15', 'endTime': '2022/10/21', 'elementValue': {'value': '0.0~0.2', 'measures': 'mm'}}, {'startTime': '2022/10/22', 'endTime': '2022/10/28', 'elementValue': {'value': '0.0~0.0', 'measures': 'mm'}}, {'startTime': '2022/10/15', 'endTime': '2022/11/11', 'elementValue': {'value': '0.8~8.0', 'measures': 'mm'}}]}, {'locationName': '南部', 'time': [{'startTime': '2022/10/15', 'endTime': '2022/10/21', 'elementValue': {'value': '0.0~0.0', 'measures': 'mm'}}, {'startTime': '2022/10/22', 'endTime': '2022/10/28', 'elementValue': {'value': '0.0~0.0', 'measures': 'mm'}}, {'startTime': '2022/10/15', 'endTime': '2022/11/11', 'elementValue': {'value': '0.2~6.8', 'measures': 'mm'}}]}, {'locationName': '東部', 'time': [{'startTime': '2022/10/15', 'endTime': '2022/10/21', 'elementValue': {'value': '4.0~36.5', 'measures': 'mm'}}, {'startTime': '2022/10/22', 'endTime': '2022/10/28', 'elementValue': {'value': '2.3~16.8', 'measures': 'mm'}}, {'startTime': '2022/10/15', 'endTime': '2022/11/11', 'elementValue': {'value': '89.3~229.8', 'measures': 'mm'}}]}]}\n"
     ]
    }
   ],
   "source": [
    "#取出 weatherElement內容\n",
    "\n",
    "temp = data['cwbopendata']['dataset']['weatherElement']\n",
    "for i in temp:\n",
    "    print (f'{i}')"
   ]
  },
  {
   "cell_type": "code",
   "execution_count": 101,
   "id": "e4f47693",
   "metadata": {},
   "outputs": [
    {
     "name": "stdout",
     "output_type": "stream",
     "text": [
      "輸入代號查詢 10/22-10/28 天氣預報 1.北部 2.中部 3.南部 4.東部1\n",
      "平均氣溫機率預報 : 20:50:30\n",
      "平均氣溫氣候正常值範圍 : 23.0~24.2\n",
      "雨量機率預報 : 10:60:30\n",
      "雨量氣候正常值範圍 : 2.0~12.5\n"
     ]
    }
   ],
   "source": [
    "#查詢 10/22-10/28 天氣預報\n",
    "\n",
    "ask = input(\"輸入代號查詢 10/22-10/28 天氣預報 1.北部 2.中部 3.南部 4.東部\")\n",
    "if ask == \"1\":\n",
    "    X=0\n",
    "elif ask == \"2\":\n",
    "    X=1\n",
    "elif ask == \"3\":\n",
    "    X=2\n",
    "elif ask == \"4\":\n",
    "    X=3\n",
    "\n",
    "for i in temp:\n",
    "    elementName = i['elementName'] \n",
    "    N = i['location'][X]['time'][1]['elementValue']['value']\n",
    "    print(f'{elementName} : {N}')"
   ]
  },
  {
   "cell_type": "code",
   "execution_count": 102,
   "id": "bffc6ecd",
   "metadata": {},
   "outputs": [
    {
     "name": "stdout",
     "output_type": "stream",
     "text": [
      "北部 平均氣溫機率預報 : 20:50:30\n",
      "北部 平均氣溫氣候正常值範圍 : 23.0~24.2\n",
      "北部 雨量機率預報 : 10:60:30\n",
      "北部 雨量氣候正常值範圍 : 2.0~12.5\n",
      "南部 平均氣溫機率預報 : 20:50:30\n",
      "南部 平均氣溫氣候正常值範圍 : 25.0~25.8\n",
      "南部 雨量機率預報 : 0:60:40\n",
      "南部 雨量氣候正常值範圍 : 0.0~0.0\n"
     ]
    }
   ],
   "source": [
    "#比較 北部/南部 10/22-10/28 天氣預報\n",
    "\n",
    "for i in temp:\n",
    "    elementName = i['elementName'] \n",
    "    N = i['location'][0]['time'][1]['elementValue']['value']\n",
    "    print(f'北部 {elementName} : {N}')\n",
    "    \n",
    "for j in temp:\n",
    "    elementName = j['elementName'] \n",
    "    S= j['location'][2]['time'][1]['elementValue']['value']\n",
    "    print(f'南部 {elementName} : {S}')"
   ]
  }
 ],
 "metadata": {
  "kernelspec": {
   "display_name": "Python 3 (ipykernel)",
   "language": "python",
   "name": "python3"
  },
  "language_info": {
   "codemirror_mode": {
    "name": "ipython",
    "version": 3
   },
   "file_extension": ".py",
   "mimetype": "text/x-python",
   "name": "python",
   "nbconvert_exporter": "python",
   "pygments_lexer": "ipython3",
   "version": "3.9.7"
  }
 },
 "nbformat": 4,
 "nbformat_minor": 5
}
