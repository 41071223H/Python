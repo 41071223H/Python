{
 "cells": [
  {
   "cell_type": "code",
   "execution_count": 2,
   "id": "13def85d",
   "metadata": {},
   "outputs": [
    {
     "name": "stderr",
     "output_type": "stream",
     "text": [
      "Building prefix dict from the default dictionary ...\n",
      "Dumping model to file cache C:\\Users\\user\\AppData\\Local\\Temp\\jieba.cache\n",
      "Loading model cost 1.926 seconds.\n",
      "Prefix dict has been built successfully.\n"
     ]
    },
    {
     "name": "stdout",
     "output_type": "stream",
     "text": [
      "result1 is : ['E', '的', 'B', '的', 'C']\n",
      "result2 is : ['B', '的', 'C', '的', 'D']\n",
      "union result is : ['C', '的', 'B', 'D', 'E']\n",
      "In 1 iteration, for No.1 word pair: C 的\n",
      "For (C,  的), the common_weight is : 2\n",
      "In 1 iteration, for No.2 word pair: C B\n",
      "For (C,  B), the common_weight is : 2\n",
      "In 1 iteration, for No.3 word pair: C D\n",
      "For (C,  D), the common_weight is : 1\n",
      "In 1 iteration, for No.4 word pair: C E\n",
      "For (C,  E), the common_weight is : 1\n",
      "In 2 iteration, for No.1 word pair: 的 B\n",
      "For (的,  B), the common_weight is : 2\n",
      "In 2 iteration, for No.2 word pair: 的 D\n",
      "For (的,  D), the common_weight is : 1\n",
      "In 2 iteration, for No.3 word pair: 的 E\n",
      "For (的,  E), the common_weight is : 1\n",
      "In 3 iteration, for No.1 word pair: B D\n",
      "For (B,  D), the common_weight is : 1\n",
      "In 3 iteration, for No.2 word pair: B E\n",
      "For (B,  E), the common_weight is : 1\n",
      "In 4 iteration, for No.1 word pair: D E\n",
      "For (D,  E), the common_weight is : 0\n",
      "The co-occurrence matrix is:\n",
      "[['0' 'C' '的' 'B' 'D' 'E']\n",
      " ['C' '0' '2' '2' '1' '1']\n",
      " ['的' '2' '0' '2' '1' '1']\n",
      " ['B' '2' '2' '0' '1' '1']\n",
      " ['D' '1' '1' '1' '0' '0']\n",
      " ['E' '1' '1' '1' '0' '0']]\n"
     ]
    }
   ],
   "source": [
    "import networkx as nx\n",
    "import matplotlib.pyplot as plt\n",
    "import jieba\n",
    "import numpy as np\n",
    "\n",
    "test = [\"E的B的C\", \"B的C的D\"]\n",
    "\n",
    "stopwords = [line.strip() for line in\n",
    "             open('stopword.txt', encoding='UTF-8').readlines()]  # 停用词词表\n",
    "cut_text1 = jieba.cut(test[0].replace(' ', ''))\n",
    "cut_text2 = jieba.cut(test[1].replace(' ', ''))\n",
    "results1 = []\n",
    "for word in cut_text1:\n",
    "    if word not in stopwords:\n",
    "        if word != '\\t':\n",
    "            results1.append(word)\n",
    "print(\"result1 is :\", results1)\n",
    "\n",
    "results2 = []\n",
    "for word in cut_text2:\n",
    "    if word not in stopwords:\n",
    "        if word != '\\t':\n",
    "            results2.append(word)\n",
    "print(\"result2 is :\", results2)\n",
    "\n",
    "# 合并列表\n",
    "result = list(set(results1).union(set(results2)))\n",
    "print(\"union result is :\", result)\n",
    "x = len(result)\n",
    "# 创建二维矩阵\n",
    "matrix = [[0 for x in range(x+1)] for y in range(x+1)]\n",
    "weight = 0\n",
    "for i in range(0, x):\n",
    "    matrix[0][i+1] = result[i]\n",
    "for j in range(0, x):\n",
    "    matrix[j+1][0] = result[j]\n",
    "\n",
    "\n",
    "# print(np.array(matrix))\n",
    "\n",
    "for i in range(1, x+1):  # i的范围为 1 到 词数\n",
    "    for j in range(1, x + 1 - i):  # n的范围为 1到（词数-i）   i+n的范围为 i 到 词数\n",
    "        word1 = result[i - 1]\n",
    "        word2 = result[i + j - 1]\n",
    "        print(\"In %d iteration, for No.%d word pair:\" % (i, j), word1, word2)\n",
    "        Common_weight = 0\n",
    "\n",
    "        if word1 in results1 and word1 in results2 and word2 in results1 and word2 in results2:\n",
    "            # 如果word1和word2同时出现在两个句子中，权重为2\n",
    "            Common_weight = 2\n",
    "        elif (word1 in results2) and (word2 in results2):\n",
    "            Common_weight = 1\n",
    "        elif (word1 in results1) and (word2 in results1):\n",
    "            Common_weight = 1\n",
    "        matrix[i][i + j] = Common_weight    # 该矩阵为对角矩阵\n",
    "        matrix[i + j][i] = Common_weight\n",
    "        print(\"For (%s,  %s), the common_weight is : %d\" % (word1, word2, Common_weight))\n",
    "print(\"The co-occurrence matrix is:\")\n",
    "# np.array() 将二维数组换行输出\n",
    "print(np.array(matrix))\n"
   ]
  },
  {
   "cell_type": "code",
   "execution_count": 3,
   "id": "5a49b640",
   "metadata": {},
   "outputs": [
    {
     "name": "stdout",
     "output_type": "stream",
     "text": [
      "['B', 'C', 'D', 'E']\n",
      "The edges for this graph are:  [('B', 'D'), ('B', 'C'), ('B', 'E'), ('C', 'D'), ('C', 'E'), ('D', 'E')]\n"
     ]
    },
    {
     "data": {
      "image/png": "[encoded data removed]",
      "text/plain": [
       "<Figure size 432x288 with 1 Axes>"
      ]
     },
     "metadata": {},
     "output_type": "display_data"
    }
   ],
   "source": [
    "# 定义有向图\n",
    "DG = nx.Graph()\n",
    "# 添加五个节点(列表)\n",
    "DG.add_nodes_from(['B', 'C', 'D', 'E'])\n",
    "print(DG.nodes())\n",
    "# 添加边(列表)\n",
    "DG.add_edge('B', 'D', weight=1)\n",
    "DG.add_edge('B', 'C', weight=2)\n",
    "DG.add_edge('B', 'E', weight=1)\n",
    "DG.add_edge('C', 'D', weight=1)\n",
    "DG.add_edge('C', 'E', weight=1)\n",
    "DG.add_edge('D', 'E', weight=1)\n",
    "# DG.add_edges_from([('B', 'C'), ('B', 'D'), ('B', 'E'), ('C','D'),('C','E'),('D','E')])\n",
    "print(\"The edges for this graph are: \", DG.edges())\n",
    "# 绘制图形 设置节点名显示\\节点大小\\节点颜色\n",
    "colors = ['red', 'green', 'pink', 'orange']\n",
    "# 按权重划分为重权值得边和轻权值的边\n",
    "# 按权重划分为重权值得边和轻权值的边\n",
    "edge_large = [(u, v) for (u, v, d) in DG.edges(data=True) if d['weight'] > 1.5]\n",
    "edge_small = [(u, v) for (u, v, d) in DG.edges(data=True) if d['weight'] <= 1.5]\n",
    "# 节点位置\n",
    "pos = nx.spring_layout(DG)  # positions for all nodes\n",
    "# 首先画出节点位置\n",
    "# nodes\n",
    "nx.draw_networkx_nodes(DG, pos, node_size=500, node_color=colors)\n",
    "# 根据权重，实线为权值大的边，虚线为权值小的边\n",
    "# edges\n",
    "nx.draw_networkx_edges(DG, pos, edgelist=edge_large,\n",
    "                       width=6)\n",
    "nx.draw_networkx_edges(DG, pos, edgelist=edge_small,\n",
    "                       width=6, alpha=0.5, edge_color='b', style='dashed')\n",
    "\n",
    "# labels标签定义\n",
    "nx.draw_networkx_labels(DG, pos, font_size=20, font_family='sans-serif')\n",
    "\n",
    "plt.axis('off')\n",
    "plt.savefig('fig.png', bbox_inches='tight')\n"
   ]
  },
  {
   "cell_type": "code",
   "execution_count": null,
   "id": "bb0b4191",
   "metadata": {},
   "outputs": [],
   "source": []
  }
 ],
 "metadata": {
  "kernelspec": {
   "display_name": "Python 3 (ipykernel)",
   "language": "python",
   "name": "python3"
  },
  "language_info": {
   "codemirror_mode": {
    "name": "ipython",
    "version": 3
   },
   "file_extension": ".py",
   "mimetype": "text/x-python",
   "name": "python",
   "nbconvert_exporter": "python",
   "pygments_lexer": "ipython3",
   "version": "3.9.7"
  }
 },
 "nbformat": 4,
 "nbformat_minor": 5
}
